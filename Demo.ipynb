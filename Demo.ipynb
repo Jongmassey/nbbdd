{
 "cells": [
  {
   "cell_type": "markdown",
   "metadata": {},
   "source": [
    "# nbbdd demo notebook 1\n",
    "This notebook demonstrates how intended behaviour of an exploratory analysis notebook may be \n",
    "* annotated using [Gherkin](https://cucumber.io/docs/gherkin/) syntax\n",
    "* used to generate skeleton unit tests\n",
    "* tested against the function of the notebook"
   ]
  },
  {
   "cell_type": "markdown",
   "metadata": {},
   "source": [
    "Gherkin code blocks can be included within a markdown cell prior to a code cell, describing the feature implemented in that cell and scenarios describing the expected behaviour. For example (taken from [behave.example](https://github.com/behave/behave.example) ) :\n",
    "\n",
    "```gherkin\n",
    "Feature: Fight or Flight (Natural Language, tutorial02)\n",
    "\n",
    "    In order to increase the ninja survival rate,\n",
    "    As a ninja commander\n",
    "    I want my ninjas to decide whether to take on an opponent\n",
    "    based on their skill levels.\n",
    "\n",
    "    Scenario: Weaker opponent\n",
    "        Given the ninja has a third level black-belt\n",
    "        When attacked by a samurai\n",
    "        Then the ninja should engage the opponent\n",
    "\n",
    "    Scenario: Stronger opponent\n",
    "        Given the ninja has a third level black-belt\n",
    "        When attacked by Chuck Norris\n",
    "        Then the ninja should run for his life\n",
    "```\n",
    "\n",
    "nbbdd will generate skeleton tests for the following code under test and place them in a code cell following the code cell"
   ]
  },
  {
   "cell_type": "code",
   "execution_count": 1,
   "metadata": {},
   "outputs": [],
   "source": [
    "class NinjaFight(object):\n",
    "    \"\"\"\n",
    "    Domain model for ninja fights.\n",
    "    \"\"\"\n",
    "    # pylint: disable=R0903\n",
    "\n",
    "    def __init__(self, with_ninja_level=None):\n",
    "        self.with_ninja_level = with_ninja_level\n",
    "        self.opponent = None\n",
    "\n",
    "    def decision(self):\n",
    "        \"\"\"\n",
    "        Business logic how a Ninja should react to increase his survival rate.\n",
    "        \"\"\"\n",
    "        assert self.with_ninja_level is not None\n",
    "        assert self.opponent is not None\n",
    "        if self.opponent == \"Chuck Norris\":\n",
    "            return \"run for his life\"\n",
    "        if \"black-belt\" in self.with_ninja_level:\n",
    "            return \"engage the opponent\"\n",
    "        else:\n",
    "            return \"run for his life\"\n"
   ]
  },
  {
   "cell_type": "markdown",
   "metadata": {},
   "source": [
    "For a more data-science related scenario, we might define the following:\n",
    "\n",
    "```gherkin\n",
    "Feature: Load Experiment Results\n",
    "    In order to analyse the results of the experiment, \n",
    "    As a data scientist\n",
    "    I need to load them into a pandas dataframe with the correct headers and rows\n",
    "    \n",
    "    Scenario: CSV File import\n",
    "        Given the csv file to import exists\n",
    "        When I call pandas read_csv\n",
    "        Then a dataframe with 3 columns and 5 rows should be returned\n",
    "```"
   ]
  },
  {
   "cell_type": "code",
   "execution_count": 2,
   "metadata": {},
   "outputs": [],
   "source": [
    "import pandas as pd\n",
    "class CSVLoader(object):\n",
    "    df_Results = None\n",
    "    filepath = \"\"\n",
    "    \n",
    "    def __init__(self,fileToLoad):\n",
    "        self.filepath = fileToLoad\n",
    "        \n",
    "    def load(self):\n",
    "        self.df_Results = pd.read_csv(self.filepath)"
   ]
  },
  {
   "cell_type": "markdown",
   "metadata": {},
   "source": [
    "and then a subsequent bit of analysis:\n",
    "\n",
    "```gherkin\n",
    "Feature: Generate Meaningful Summary Statistics\n",
    "    In order to assess successfuly completion of the experiment,\n",
    "    As a data scientist\n",
    "    I require summary statistics of the dataframe that are within expected values\n",
    "    \n",
    "    Scenario: Summary statistics are created\n",
    "        Given the results data frame is populated\n",
    "        When I call pandas describe()\n",
    "        Then a dataframe containing the count, mean, std, min , 25% , 50%, 75%, and max of the concentration column is returned\n",
    "        \n",
    "    Scenario: Summary statistics are within expected ranges\n",
    "        Given the summary statistics are created\n",
    "        When the mean concentration is examined\n",
    "        Then it is a positive integer greater than zero\n",
    "```"
   ]
  }
 ],
 "metadata": {
  "kernelspec": {
   "display_name": "Python 3",
   "language": "python",
   "name": "python3"
  },
  "language_info": {
   "codemirror_mode": {
    "name": "ipython",
    "version": 3
   },
   "file_extension": ".py",
   "mimetype": "text/x-python",
   "name": "python",
   "nbconvert_exporter": "python",
   "pygments_lexer": "ipython3",
   "version": "3.6.5"
  }
 },
 "nbformat": 4,
 "nbformat_minor": 2
}
