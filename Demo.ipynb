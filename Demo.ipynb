{
 "cells": [
  {
   "cell_type": "markdown",
   "metadata": {},
   "source": [
    "# nbbdd demo notebook 1\n",
    "This notebook demonstrates how intended behaviour of an exploratory analysis notebook may be \n",
    "* annotated using [Gherkin](https://cucumber.io/docs/gherkin/) syntax\n",
    "* used to generate skeleton unit tests\n",
    "* tested against the function of the notebook"
   ]
  },
  {
   "cell_type": "markdown",
   "metadata": {},
   "source": [
    "Gherkin code blocks can be included within a markdown cell prior to a code cell, describing the feature implemented in that cell and scenarios describing the expected behaviour\n",
    "\n",
    "```gherkin\n",
    "Feature: Fight or Flight (Natural Language, tutorial02)\n",
    "\n",
    "    In order to increase the ninja survival rate,\n",
    "    As a ninja commander\n",
    "    I want my ninjas to decide whether to take on an opponent\n",
    "    based on their skill levels.\n",
    "\n",
    "    Scenario: Weaker opponent\n",
    "        Given the ninja has a third level black-belt\n",
    "        When attacked by a samurai\n",
    "        Then the ninja should engage the opponent\n",
    "\n",
    "    Scenario: Stronger opponent\n",
    "        Given the ninja has a third level black-belt\n",
    "        When attacked by Chuck Norris\n",
    "        Then the ninja should run for his life\n",
    "```"
   ]
  },
  {
   "cell_type": "code",
   "execution_count": 1,
   "metadata": {},
   "outputs": [],
   "source": [
    "class NinjaFight(object):\n",
    "    \"\"\"\n",
    "    Domain model for ninja fights.\n",
    "    \"\"\"\n",
    "    # pylint: disable=R0903\n",
    "\n",
    "    def __init__(self, with_ninja_level=None):\n",
    "        self.with_ninja_level = with_ninja_level\n",
    "        self.opponent = None\n",
    "\n",
    "    def decision(self):\n",
    "        \"\"\"\n",
    "        Business logic how a Ninja should react to increase his survival rate.\n",
    "        \"\"\"\n",
    "        assert self.with_ninja_level is not None\n",
    "        assert self.opponent is not None\n",
    "        if self.opponent == \"Chuck Norris\":\n",
    "            return \"run for his life\"\n",
    "        if \"black-belt\" in self.with_ninja_level:\n",
    "            return \"engage the opponent\"\n",
    "        else:\n",
    "            return \"run for his life\"\n"
   ]
  }
 ],
 "metadata": {
  "kernelspec": {
   "display_name": "Python 3",
   "language": "python",
   "name": "python3"
  },
  "language_info": {
   "codemirror_mode": {
    "name": "ipython",
    "version": 3
   },
   "file_extension": ".py",
   "mimetype": "text/x-python",
   "name": "python",
   "nbconvert_exporter": "python",
   "pygments_lexer": "ipython3",
   "version": "3.6.5"
  }
 },
 "nbformat": 4,
 "nbformat_minor": 2
}
